{
  "nbformat": 4,
  "nbformat_minor": 0,
  "metadata": {
    "colab": {
      "name": "DL_project_test1_hbk.ipynb",
      "version": "0.3.2",
      "provenance": [],
      "collapsed_sections": []
    },
    "kernelspec": {
      "name": "python3",
      "display_name": "Python 3"
    },
    "accelerator": "GPU"
  },
  "cells": [
    {
      "cell_type": "code",
      "metadata": {
        "id": "obcUJ29SVegc",
        "colab_type": "code",
        "outputId": "896e8b1c-3eaa-4f7a-917d-568300495fac",
        "colab": {
          "base_uri": "https://localhost:8080/",
          "height": 35
        }
      },
      "source": [
        "import numpy as np\n",
        "import tensorflow  as tf\n",
        "from tensorflow.contrib.layers import fully_connected\n",
        "import matplotlib.pyplot as plt\n",
        "from matplotlib import cm\n",
        "import pandas as pd\n",
        "import librosa\n",
        "from google.colab import files\n",
        "from google.colab import drive\n",
        "import glob\n",
        "import pickle\n",
        "from statistics import mean\n",
        "import keras"
      ],
      "execution_count": 0,
      "outputs": [
        {
          "output_type": "stream",
          "text": [
            "Using TensorFlow backend.\n"
          ],
          "name": "stderr"
        }
      ]
    },
    {
      "cell_type": "code",
      "metadata": {
        "id": "blC_q2aKVhis",
        "colab_type": "code",
        "outputId": "0564b694-23c0-47ce-b3e1-c5e3ac1195d4",
        "colab": {
          "base_uri": "https://localhost:8080/",
          "height": 124
        }
      },
      "source": [
        "drive.mount('/content/Drive/',force_remount =  True)"
      ],
      "execution_count": 0,
      "outputs": [
        {
          "output_type": "stream",
          "text": [
            "Go to this URL in a browser: https://accounts.google.com/o/oauth2/auth?client_id=947318989803-6bn6qk8qdgf4n4g3pfee6491hc0brc4i.apps.googleusercontent.com&redirect_uri=urn%3Aietf%3Awg%3Aoauth%3A2.0%3Aoob&scope=email%20https%3A%2F%2Fwww.googleapis.com%2Fauth%2Fdocs.test%20https%3A%2F%2Fwww.googleapis.com%2Fauth%2Fdrive%20https%3A%2F%2Fwww.googleapis.com%2Fauth%2Fdrive.photos.readonly%20https%3A%2F%2Fwww.googleapis.com%2Fauth%2Fpeopleapi.readonly&response_type=code\n",
            "\n",
            "Enter your authorization code:\n",
            "··········\n",
            "Mounted at /content/Drive/\n"
          ],
          "name": "stdout"
        }
      ]
    },
    {
      "cell_type": "code",
      "metadata": {
        "id": "c6m41RfgVmn8",
        "colab_type": "code",
        "outputId": "06cfa935-84c2-42c1-8e2d-f4a6f9891667",
        "colab": {
          "base_uri": "https://localhost:8080/",
          "height": 35
        }
      },
      "source": [
        "glob.glob('/content/*')"
      ],
      "execution_count": 0,
      "outputs": [
        {
          "output_type": "execute_result",
          "data": {
            "text/plain": [
              "['/content/Drive', '/content/sample_data']"
            ]
          },
          "metadata": {
            "tags": []
          },
          "execution_count": 5
        }
      ]
    },
    {
      "cell_type": "code",
      "metadata": {
        "id": "xXQlVLajVvO0",
        "colab_type": "code",
        "colab": {}
      },
      "source": [
        "dirpath = \"Drive/My Drive/Deep Learning/Project/\""
      ],
      "execution_count": 0,
      "outputs": []
    },
    {
      "cell_type": "code",
      "metadata": {
        "id": "NPBbAe80WDv0",
        "colab_type": "code",
        "colab": {}
      },
      "source": [
        "#Loading pickle to colab - Training\n",
        "sound_lists_pkl_in = open(dirpath+\"train_sound_lists.pkl\", \"rb\")\n",
        "train_sound_lists = pickle.load(sound_lists_pkl_in)"
      ],
      "execution_count": 0,
      "outputs": []
    },
    {
      "cell_type": "code",
      "metadata": {
        "id": "gIAmgSoyhcXl",
        "colab_type": "code",
        "colab": {}
      },
      "source": [
        "# train_sound_lists"
      ],
      "execution_count": 0,
      "outputs": []
    },
    {
      "cell_type": "code",
      "metadata": {
        "id": "DnVn1Zi7W_sn",
        "colab_type": "code",
        "outputId": "fee95ed5-8ef4-4034-8c46-a506325ec579",
        "colab": {
          "base_uri": "https://localhost:8080/",
          "height": 69
        }
      },
      "source": [
        "labels = []\n",
        "for item in train_sound_lists['labels']:\n",
        "  if item == 'Hindi':\n",
        "    labels.append(0)\n",
        "  elif item == 'Bhojpuri':\n",
        "    labels.append(1)\n",
        "  else:\n",
        "    labels.append(2)\n",
        "    \n",
        "print(len(labels))\n",
        "print(labels[:10])\n",
        "print(train_sound_lists['labels'][:10])"
      ],
      "execution_count": 0,
      "outputs": [
        {
          "output_type": "stream",
          "text": [
            "195\n",
            "[0, 1, 0, 1, 0, 2, 1, 2, 0, 1]\n",
            "['Hindi', 'Bhojpuri', 'Hindi', 'Bhojpuri', 'Hindi', 'Korean South', 'Bhojpuri', 'Korean South', 'Hindi', 'Bhojpuri']\n"
          ],
          "name": "stdout"
        }
      ]
    },
    {
      "cell_type": "code",
      "metadata": {
        "id": "vPMoZSAUZX2m",
        "colab_type": "code",
        "colab": {}
      },
      "source": [
        "# train_sound_lists['spec_abs_list'][0].shape\n",
        "train = []\n",
        "for i in range(0,195):\n",
        "  train.append(train_sound_lists['at_list'][i])"
      ],
      "execution_count": 0,
      "outputs": []
    },
    {
      "cell_type": "code",
      "metadata": {
        "id": "kqS9izLeiPvu",
        "colab_type": "code",
        "outputId": "8d23dc84-fbba-4dc0-9591-8d2f791bf7c3",
        "colab": {
          "base_uri": "https://localhost:8080/",
          "height": 35
        }
      },
      "source": [
        "train[0].shape"
      ],
      "execution_count": 0,
      "outputs": [
        {
          "output_type": "execute_result",
          "data": {
            "text/plain": [
              "(440111,)"
            ]
          },
          "metadata": {
            "tags": []
          },
          "execution_count": 11
        }
      ]
    },
    {
      "cell_type": "code",
      "metadata": {
        "id": "Q8xidrEgiL4w",
        "colab_type": "code",
        "colab": {}
      },
      "source": [
        "\n",
        "for i in range(len(train)):\n",
        "  train[i] = librosa.feature.mfcc(y=train[i], n_mfcc = 50)\n",
        "  train[i] = train[i].T"
      ],
      "execution_count": 0,
      "outputs": []
    },
    {
      "cell_type": "code",
      "metadata": {
        "id": "3niEiMVCjAYY",
        "colab_type": "code",
        "outputId": "1dc505b0-5180-4ea1-eae7-95bf3cab4ab1",
        "colab": {
          "base_uri": "https://localhost:8080/",
          "height": 35
        }
      },
      "source": [
        "train[0].shape"
      ],
      "execution_count": 0,
      "outputs": [
        {
          "output_type": "execute_result",
          "data": {
            "text/plain": [
              "(860, 50)"
            ]
          },
          "metadata": {
            "tags": []
          },
          "execution_count": 13
        }
      ]
    },
    {
      "cell_type": "code",
      "metadata": {
        "id": "6CXoN9XDWM4w",
        "colab_type": "code",
        "colab": {}
      },
      "source": [
        "X = tf.placeholder(tf.float32, shape=(None,860,50))\n",
        "y = tf.placeholder(tf.int32, shape=(None))"
      ],
      "execution_count": 0,
      "outputs": []
    },
    {
      "cell_type": "code",
      "metadata": {
        "id": "rU8lcD9iZxeM",
        "colab_type": "code",
        "colab": {}
      },
      "source": [
        "x_image_2d = tf.reshape(X, [-1,860,50,1])"
      ],
      "execution_count": 0,
      "outputs": []
    },
    {
      "cell_type": "code",
      "metadata": {
        "id": "zzRDp2BlWkKQ",
        "colab_type": "code",
        "outputId": "b2caafa1-d43c-44f5-9a36-9c9dffa456a0",
        "colab": {
          "base_uri": "https://localhost:8080/",
          "height": 332
        }
      },
      "source": [
        "#2D Convolutional Layer 1\n",
        "conv_2d_layer_1 = tf.layers.conv2d(x_image_2d, filters=32, kernel_size=4, strides=(1,1), padding=\"same\")\n",
        "conv_2d_layer_1 = tf.nn.relu(conv_2d_layer_1)\n",
        "\n",
        "#2D Maxpooling layer\n",
        "mp_2d_1 = tf.layers.max_pooling2d(conv_2d_layer_1, pool_size=[2,2], strides=[2,2], padding=\"same\")\n",
        "\n",
        "#2D Convolutional Layer 2\n",
        "conv_2d_layer_2 = tf.layers.conv2d(mp_2d_1, filters=64, kernel_size=2, strides=(1,1), padding=\"same\")\n",
        "conv_2d_layer_2 = tf.nn.relu(conv_2d_layer_2)\n",
        "\n",
        "#2D Maxpooling layer\n",
        "mp_2d_2 = tf.layers.max_pooling2d(conv_2d_layer_2, pool_size=[2,2], strides=[2,2], padding=\"same\")\n",
        "\n",
        "# num_features_2d = mp_2d_2.get_shape()[1:4].num_elements()\n",
        "# dense_layer_2d = tf.reshape(mp_2d_2, [-1,num_features_2d])\n",
        "\n",
        "#LSTM\n",
        "num_features_2d = mp_2d_2.get_shape()[2:4].num_elements()\n",
        "dense_layer_2d = tf.reshape(mp_2d_2, [-1,mp_2d_2.get_shape()[1],num_features_2d])\n",
        "#dense_layer_2d = tf.transpose(dense_layer_2d, perm=[0,2,1])\n",
        "\n",
        "lstm_cell1 = tf.keras.layers.LSTMCell(units=256)\n",
        "\n",
        "lstm_cell2 = tf.keras.layers.LSTMCell(units=512)\n",
        "\n",
        "multilayer_lstm = tf.keras.layers.StackedRNNCells([lstm_cell1, lstm_cell2])\n",
        "\n",
        "rnn_outputs, rnn_states = tf.nn.dynamic_rnn(multilayer_lstm, dense_layer_2d, dtype=tf.float32)\n",
        "print(rnn_outputs)\n",
        "rnn_outputs = tf.reshape(rnn_outputs, [-1,rnn_outputs.shape[1]*rnn_outputs.shape[2]])\n",
        "# rnn_outputs = rnn_outputs[:,-1,:]\n",
        "# rnn_outputs.shape\n",
        "#Fully Connected Layer\n",
        "dl_2d_1 = fully_connected(rnn_outputs, 256)\n",
        "\n",
        "#Dropout Layer 1\n",
        "dr_2d_1 = tf.layers.dropout(dl_2d_1, rate=0.7)\n",
        "\n",
        "#Output Layer\n",
        "reg_op_2d = fully_connected(dr_2d_1, 3, activation_fn=None)\n",
        "print(reg_op_2d.shape)\n"
      ],
      "execution_count": 0,
      "outputs": [
        {
          "output_type": "stream",
          "text": [
            "WARNING:tensorflow:From <ipython-input-16-84a429de7a2e>:1: conv2d (from tensorflow.python.layers.convolutional) is deprecated and will be removed in a future version.\n",
            "Instructions for updating:\n",
            "Use keras.layers.conv2d instead.\n",
            "WARNING:tensorflow:From /usr/local/lib/python3.6/dist-packages/tensorflow/python/framework/op_def_library.py:263: colocate_with (from tensorflow.python.framework.ops) is deprecated and will be removed in a future version.\n",
            "Instructions for updating:\n",
            "Colocations handled automatically by placer.\n",
            "WARNING:tensorflow:From <ipython-input-16-84a429de7a2e>:5: max_pooling2d (from tensorflow.python.layers.pooling) is deprecated and will be removed in a future version.\n",
            "Instructions for updating:\n",
            "Use keras.layers.max_pooling2d instead.\n",
            "WARNING:tensorflow:From <ipython-input-16-84a429de7a2e>:28: dynamic_rnn (from tensorflow.python.ops.rnn) is deprecated and will be removed in a future version.\n",
            "Instructions for updating:\n",
            "Please use `keras.layers.RNN(cell)`, which is equivalent to this API\n",
            "Tensor(\"rnn/transpose_1:0\", shape=(?, 215, 512), dtype=float32)\n",
            "WARNING:tensorflow:From <ipython-input-16-84a429de7a2e>:37: dropout (from tensorflow.python.layers.core) is deprecated and will be removed in a future version.\n",
            "Instructions for updating:\n",
            "Use keras.layers.dropout instead.\n",
            "(?, 3)\n"
          ],
          "name": "stdout"
        }
      ]
    },
    {
      "cell_type": "code",
      "metadata": {
        "id": "obDylWSCa81i",
        "colab_type": "code",
        "colab": {}
      },
      "source": [
        "#Mean Square Error(MSE) - Defining the error calculated using output of the NN and the given output\n",
        "xentropy = tf.nn.sparse_softmax_cross_entropy_with_logits(labels=y, logits=reg_op_2d)\n",
        "loss_2d = tf.reduce_mean(xentropy, name=\"loss\")\n",
        "\n",
        "correct = tf.nn.in_top_k(reg_op_2d, y, 1)\n",
        "accuracy = tf.reduce_mean(tf.cast(correct, tf.float32)) \n",
        "\n"
      ],
      "execution_count": 0,
      "outputs": []
    },
    {
      "cell_type": "code",
      "metadata": {
        "id": "Pzd7tUa-bAlY",
        "colab_type": "code",
        "colab": {}
      },
      "source": [
        "#Using Adam Optimizer for minimizing the loss\n",
        "lr = 0.0002\n",
        "optimizer2 = tf.train.AdamOptimizer(lr).minimize(loss_2d)"
      ],
      "execution_count": 0,
      "outputs": []
    },
    {
      "cell_type": "code",
      "metadata": {
        "id": "MP4hXOxMcfUH",
        "colab_type": "code",
        "colab": {}
      },
      "source": [
        "init = tf.global_variables_initializer()\n",
        "#saver = tf.train.Saver()"
      ],
      "execution_count": 0,
      "outputs": []
    },
    {
      "cell_type": "code",
      "metadata": {
        "id": "etH2eeO_clSW",
        "colab_type": "code",
        "outputId": "1d3683bc-999e-402f-b661-c80b941bba63",
        "colab": {
          "base_uri": "https://localhost:8080/",
          "height": 1077
        }
      },
      "source": [
        "#Training the NN\n",
        "n_epochs =50\n",
        "batch_size = 29\n",
        "acc_2d = []\n",
        "tx = train[:145]\n",
        "cvx = train[145:]\n",
        "ty = labels[:145]\n",
        "cvy = labels[145:]\n",
        "with tf.Session() as sess:\n",
        "  init.run()\n",
        "  for epoch in range(n_epochs):\n",
        "    for iteration in range(len(tx) // batch_size):\n",
        "      \n",
        "      X_batch = tx[iteration*batch_size:(iteration+1)*batch_size]\n",
        "      y_batch = ty[iteration*batch_size:(iteration+1)*batch_size]\n",
        "      sess.run(optimizer2, feed_dict = {X: X_batch, y: y_batch})\n",
        "    acc_train = accuracy.eval(feed_dict={X: tx, y: ty})\n",
        "    acc_2d.append(acc_train*100)\n",
        "    #if epoch % 100 == 0:\n",
        "    print(epoch, \"Train accuracy:\", acc_train)\n",
        "    #, \"Test accuracy:\", acc_test\n",
        "  \n",
        "  acc_test = accuracy.eval(feed_dict={X: cvx, y: cvy})\n",
        "  print(acc_test)\n",
        "  pred = tf.arg_max(tf.nn.softmax(reg_op_2d.eval(feed_dict={X: cvx})),1)\n",
        "  cm = sess.run(tf.math.confusion_matrix(cvy, pred))\n",
        "  \n",
        "  "
      ],
      "execution_count": 0,
      "outputs": [
        {
          "output_type": "stream",
          "text": [
            "0 Train accuracy: 0.44827586\n",
            "1 Train accuracy: 0.9310345\n",
            "2 Train accuracy: 0.8344827\n",
            "3 Train accuracy: 0.9724138\n",
            "4 Train accuracy: 1.0\n",
            "5 Train accuracy: 1.0\n",
            "6 Train accuracy: 1.0\n",
            "7 Train accuracy: 1.0\n",
            "8 Train accuracy: 1.0\n",
            "9 Train accuracy: 1.0\n",
            "10 Train accuracy: 1.0\n",
            "11 Train accuracy: 1.0\n",
            "12 Train accuracy: 1.0\n",
            "13 Train accuracy: 1.0\n",
            "14 Train accuracy: 1.0\n",
            "15 Train accuracy: 1.0\n",
            "16 Train accuracy: 1.0\n",
            "17 Train accuracy: 1.0\n",
            "18 Train accuracy: 1.0\n",
            "19 Train accuracy: 1.0\n",
            "20 Train accuracy: 1.0\n",
            "21 Train accuracy: 1.0\n",
            "22 Train accuracy: 1.0\n",
            "23 Train accuracy: 1.0\n",
            "24 Train accuracy: 1.0\n",
            "25 Train accuracy: 1.0\n",
            "26 Train accuracy: 1.0\n",
            "27 Train accuracy: 1.0\n",
            "28 Train accuracy: 1.0\n",
            "29 Train accuracy: 1.0\n",
            "30 Train accuracy: 1.0\n",
            "31 Train accuracy: 1.0\n",
            "32 Train accuracy: 1.0\n",
            "33 Train accuracy: 1.0\n",
            "34 Train accuracy: 1.0\n",
            "35 Train accuracy: 1.0\n",
            "36 Train accuracy: 1.0\n",
            "37 Train accuracy: 1.0\n",
            "38 Train accuracy: 1.0\n",
            "39 Train accuracy: 1.0\n",
            "40 Train accuracy: 1.0\n",
            "41 Train accuracy: 1.0\n",
            "42 Train accuracy: 1.0\n",
            "43 Train accuracy: 1.0\n",
            "44 Train accuracy: 1.0\n",
            "45 Train accuracy: 1.0\n",
            "46 Train accuracy: 1.0\n",
            "47 Train accuracy: 1.0\n",
            "48 Train accuracy: 1.0\n",
            "49 Train accuracy: 1.0\n",
            "0.88\n",
            "WARNING:tensorflow:From <ipython-input-20-71d35087aad6>:24: arg_max (from tensorflow.python.ops.gen_math_ops) is deprecated and will be removed in a future version.\n",
            "Instructions for updating:\n",
            "Use `tf.math.argmax` instead\n",
            "WARNING:tensorflow:From /usr/local/lib/python3.6/dist-packages/tensorflow/python/ops/confusion_matrix.py:193: to_int64 (from tensorflow.python.ops.math_ops) is deprecated and will be removed in a future version.\n",
            "Instructions for updating:\n",
            "Use tf.cast instead.\n",
            "WARNING:tensorflow:From /usr/local/lib/python3.6/dist-packages/tensorflow/python/ops/confusion_matrix.py:194: to_int32 (from tensorflow.python.ops.math_ops) is deprecated and will be removed in a future version.\n",
            "Instructions for updating:\n",
            "Use tf.cast instead.\n"
          ],
          "name": "stdout"
        }
      ]
    },
    {
      "cell_type": "code",
      "metadata": {
        "id": "p5qo5BFwegSW",
        "colab_type": "code",
        "outputId": "6df3215e-455b-4591-f72e-b08f677a586e",
        "colab": {
          "base_uri": "https://localhost:8080/",
          "height": 69
        }
      },
      "source": [
        "cm"
      ],
      "execution_count": 0,
      "outputs": [
        {
          "output_type": "execute_result",
          "data": {
            "text/plain": [
              "array([[19,  4,  0],\n",
              "       [ 2, 11,  0],\n",
              "       [ 0,  0, 14]], dtype=int32)"
            ]
          },
          "metadata": {
            "tags": []
          },
          "execution_count": 21
        }
      ]
    },
    {
      "cell_type": "markdown",
      "metadata": {
        "id": "623d0amomspM",
        "colab_type": "text"
      },
      "source": [
        "### Using Keras"
      ]
    },
    {
      "cell_type": "code",
      "metadata": {
        "id": "AEBgtC8mf7dl",
        "colab_type": "code",
        "colab": {}
      },
      "source": [
        "    \n",
        "from keras.layers.core import Dense, Permute, Reshape, Flatten \n",
        "from keras.layers.convolutional import Convolution2D\n",
        "from keras.layers.normalization import BatchNormalization\n",
        "from keras.layers.pooling import MaxPooling2D\n",
        "from keras.layers.wrappers import Bidirectional\n",
        "from keras.layers.recurrent import LSTM\n",
        "from keras.layers import Dropout, TimeDistributed\n",
        "from keras import layers\n",
        "from keras.models import Sequential\n",
        "from keras.regularizers import l2\n",
        "from keras.utils import to_categorical"
      ],
      "execution_count": 0,
      "outputs": []
    },
    {
      "cell_type": "code",
      "metadata": {
        "id": "F6ecy7JGna4D",
        "colab_type": "code",
        "outputId": "0d87a845-03db-4d38-d6d0-53c883c64eed",
        "colab": {
          "base_uri": "https://localhost:8080/",
          "height": 69
        }
      },
      "source": [
        "model = Sequential()\n",
        "\n",
        "model.add(Convolution2D(32, kernel_size=(4,4), strides=(1,1), activation=\"relu\", padding=\"same\", input_shape=(860,50,1)))\n",
        "model.add(BatchNormalization())\n",
        "\n",
        "model.add(MaxPooling2D(pool_size=(2,2), strides=(2,2), padding=\"same\"))\n",
        "\n",
        "\n",
        "model.add(Convolution2D(64, kernel_size=(2,2), strides=(1,1), activation=\"relu\", padding=\"same\"))\n",
        "model.add(BatchNormalization())\n",
        "\n",
        "model.add(MaxPooling2D(pool_size=(2,2), strides=(2,2), padding=\"same\"))\n",
        "\n",
        "print(model.layers[-1].output_shape)\n",
        "\n",
        "#model.add(Permute((2,1,3)))\n",
        "\n",
        "print(model.layers[-1].output_shape)\n",
        "\n",
        "bs, x, y, c = model.layers[-1].output_shape\n",
        "\n",
        "model.add(Reshape([x,y*c]))\n",
        "\n",
        "print(model.layers[-1].output_shape)\n",
        "\n",
        "model.add(LSTM(256, activation=\"tanh\", return_sequences=True))\n",
        "\n",
        "model.add(LSTM(512, activation=\"tanh\", return_sequences=True))\n",
        "\n",
        "model.add(Flatten())\n",
        "\n",
        "model.add(Dense(256, activation=\"relu\"))\n",
        "\n",
        "model.add(Dropout(rate=0.7))\n",
        "\n",
        "model.add(Dense(3, activation=\"softmax\"))"
      ],
      "execution_count": 0,
      "outputs": [
        {
          "output_type": "stream",
          "text": [
            "(None, 215, 13, 64)\n",
            "(None, 215, 13, 64)\n",
            "(None, 215, 832)\n"
          ],
          "name": "stdout"
        }
      ]
    },
    {
      "cell_type": "code",
      "metadata": {
        "id": "J-LIqyhKxL_e",
        "colab_type": "code",
        "colab": {}
      },
      "source": [
        "tx = np.array(train[:145])\n",
        "cvx = np.array(train[145:])\n",
        "ty = np.array(labels[:145])\n",
        "cvy = np.array(labels[145:])"
      ],
      "execution_count": 0,
      "outputs": []
    },
    {
      "cell_type": "code",
      "metadata": {
        "id": "V6IcH27SAixd",
        "colab_type": "code",
        "colab": {}
      },
      "source": [
        "ty_onehot = to_categorical(ty)\n",
        "cvy_onehot = to_categorical(cvy)"
      ],
      "execution_count": 0,
      "outputs": []
    },
    {
      "cell_type": "code",
      "metadata": {
        "id": "sChPiUv0s3EP",
        "colab_type": "code",
        "colab": {}
      },
      "source": [
        "model.compile(loss=keras.losses.categorical_crossentropy,\n",
        "             optimizer=keras.optimizers.adam(lr=0.0002),\n",
        "             metrics=['accuracy'])"
      ],
      "execution_count": 0,
      "outputs": []
    },
    {
      "cell_type": "code",
      "metadata": {
        "id": "jt_a7uRcpzRp",
        "colab_type": "code",
        "outputId": "f57daa9d-19e2-4e77-cf0c-4e31940804e5",
        "colab": {
          "base_uri": "https://localhost:8080/",
          "height": 2479
        }
      },
      "source": [
        "model.fit(tx.reshape(-1,860,50,1), ty_onehot,\n",
        "          batch_size=29,\n",
        "          epochs=70,\n",
        "          verbose=1,\n",
        "          validation_data=(cvx.reshape(-1,860,50,1),cvy_onehot)\n",
        "         )\n",
        "          "
      ],
      "execution_count": 0,
      "outputs": [
        {
          "output_type": "stream",
          "text": [
            "Train on 145 samples, validate on 50 samples\n",
            "Epoch 1/70\n",
            "145/145 [==============================] - 9s 64ms/step - loss: 0.0030 - acc: 1.0000 - val_loss: 0.4829 - val_acc: 0.9600\n",
            "Epoch 2/70\n",
            "145/145 [==============================] - 6s 40ms/step - loss: 2.7392e-06 - acc: 1.0000 - val_loss: 0.5851 - val_acc: 0.9600\n",
            "Epoch 3/70\n",
            "145/145 [==============================] - 6s 41ms/step - loss: 5.9486e-05 - acc: 1.0000 - val_loss: 0.6447 - val_acc: 0.9600\n",
            "Epoch 4/70\n",
            "145/145 [==============================] - 6s 41ms/step - loss: 1.1921e-07 - acc: 1.0000 - val_loss: 0.6447 - val_acc: 0.9600\n",
            "Epoch 5/70\n",
            "145/145 [==============================] - 6s 40ms/step - loss: 1.3379e-05 - acc: 1.0000 - val_loss: 0.6038 - val_acc: 0.9600\n",
            "Epoch 6/70\n",
            "145/145 [==============================] - 6s 40ms/step - loss: 6.2717e-05 - acc: 1.0000 - val_loss: 0.6447 - val_acc: 0.9600\n",
            "Epoch 7/70\n",
            "145/145 [==============================] - 6s 41ms/step - loss: 1.1921e-07 - acc: 1.0000 - val_loss: 0.6447 - val_acc: 0.9600\n",
            "Epoch 8/70\n",
            "145/145 [==============================] - 6s 40ms/step - loss: 1.7840e-07 - acc: 1.0000 - val_loss: 0.6447 - val_acc: 0.9600\n",
            "Epoch 9/70\n",
            "145/145 [==============================] - 6s 41ms/step - loss: 1.3356e-05 - acc: 1.0000 - val_loss: 0.6398 - val_acc: 0.9600\n",
            "Epoch 10/70\n",
            "145/145 [==============================] - 6s 41ms/step - loss: 1.2990e-07 - acc: 1.0000 - val_loss: 0.6297 - val_acc: 0.9600\n",
            "Epoch 11/70\n",
            "145/145 [==============================] - 6s 41ms/step - loss: 1.1921e-07 - acc: 1.0000 - val_loss: 0.6223 - val_acc: 0.9600\n",
            "Epoch 12/70\n",
            "145/145 [==============================] - 6s 40ms/step - loss: 1.1921e-07 - acc: 1.0000 - val_loss: 0.6168 - val_acc: 0.9600\n",
            "Epoch 13/70\n",
            "145/145 [==============================] - 6s 41ms/step - loss: 1.1921e-07 - acc: 1.0000 - val_loss: 0.6127 - val_acc: 0.9600\n",
            "Epoch 14/70\n",
            "145/145 [==============================] - 6s 41ms/step - loss: 1.2168e-07 - acc: 1.0000 - val_loss: 0.6095 - val_acc: 0.9600\n",
            "Epoch 15/70\n",
            "145/145 [==============================] - 6s 40ms/step - loss: 1.2332e-07 - acc: 1.0000 - val_loss: 0.6069 - val_acc: 0.9600\n",
            "Epoch 16/70\n",
            "145/145 [==============================] - 6s 40ms/step - loss: 2.4294e-07 - acc: 1.0000 - val_loss: 0.6064 - val_acc: 0.9600\n",
            "Epoch 17/70\n",
            "145/145 [==============================] - 6s 41ms/step - loss: 1.1921e-07 - acc: 1.0000 - val_loss: 0.6060 - val_acc: 0.9600\n",
            "Epoch 18/70\n",
            "145/145 [==============================] - 6s 41ms/step - loss: 0.0576 - acc: 0.9931 - val_loss: 0.6447 - val_acc: 0.9600\n",
            "Epoch 19/70\n",
            "145/145 [==============================] - 6s 40ms/step - loss: 1.1921e-07 - acc: 1.0000 - val_loss: 0.3354 - val_acc: 0.9800\n",
            "Epoch 20/70\n",
            "145/145 [==============================] - 6s 41ms/step - loss: 0.2223 - acc: 0.9862 - val_loss: 2.8399 - val_acc: 0.8200\n",
            "Epoch 21/70\n",
            "145/145 [==============================] - 6s 41ms/step - loss: 0.7994 - acc: 0.9448 - val_loss: 1.0922 - val_acc: 0.9200\n",
            "Epoch 22/70\n",
            "145/145 [==============================] - 6s 40ms/step - loss: 0.1310 - acc: 0.9862 - val_loss: 0.6447 - val_acc: 0.9600\n",
            "Epoch 23/70\n",
            "145/145 [==============================] - 6s 40ms/step - loss: 0.0129 - acc: 0.9931 - val_loss: 0.7713 - val_acc: 0.9200\n",
            "Epoch 24/70\n",
            "145/145 [==============================] - 6s 41ms/step - loss: 0.1840 - acc: 0.9862 - val_loss: 0.6480 - val_acc: 0.9600\n",
            "Epoch 25/70\n",
            "145/145 [==============================] - 6s 40ms/step - loss: 1.2579e-07 - acc: 1.0000 - val_loss: 0.6559 - val_acc: 0.9600\n",
            "Epoch 26/70\n",
            "145/145 [==============================] - 6s 41ms/step - loss: 0.3033 - acc: 0.9724 - val_loss: 0.5839 - val_acc: 0.9600\n",
            "Epoch 27/70\n",
            "145/145 [==============================] - 6s 41ms/step - loss: 1.7647e-04 - acc: 1.0000 - val_loss: 1.4385 - val_acc: 0.8200\n",
            "Epoch 28/70\n",
            "145/145 [==============================] - 6s 41ms/step - loss: 0.2972 - acc: 0.9655 - val_loss: 1.0187 - val_acc: 0.9000\n",
            "Epoch 29/70\n",
            "145/145 [==============================] - 6s 40ms/step - loss: 5.4976e-06 - acc: 1.0000 - val_loss: 0.6447 - val_acc: 0.9600\n",
            "Epoch 30/70\n",
            "145/145 [==============================] - 6s 40ms/step - loss: 0.0028 - acc: 1.0000 - val_loss: 0.4922 - val_acc: 0.9400\n",
            "Epoch 31/70\n",
            "145/145 [==============================] - 6s 41ms/step - loss: 0.1113 - acc: 0.9931 - val_loss: 0.5501 - val_acc: 0.9600\n",
            "Epoch 32/70\n",
            "145/145 [==============================] - 6s 40ms/step - loss: 3.1826e-04 - acc: 1.0000 - val_loss: 0.6291 - val_acc: 0.9600\n",
            "Epoch 33/70\n",
            "145/145 [==============================] - 6s 40ms/step - loss: 0.0858 - acc: 0.9862 - val_loss: 0.5346 - val_acc: 0.9600\n",
            "Epoch 34/70\n",
            "145/145 [==============================] - 6s 41ms/step - loss: 0.0422 - acc: 0.9931 - val_loss: 0.6206 - val_acc: 0.9600\n",
            "Epoch 35/70\n",
            "145/145 [==============================] - 6s 40ms/step - loss: 2.2979e-07 - acc: 1.0000 - val_loss: 0.6447 - val_acc: 0.9600\n",
            "Epoch 36/70\n",
            "145/145 [==============================] - 6s 40ms/step - loss: 0.0202 - acc: 0.9931 - val_loss: 0.6448 - val_acc: 0.9600\n",
            "Epoch 37/70\n",
            "145/145 [==============================] - 6s 41ms/step - loss: 4.0861e-07 - acc: 1.0000 - val_loss: 0.6462 - val_acc: 0.9600\n",
            "Epoch 38/70\n",
            "145/145 [==============================] - 6s 41ms/step - loss: 1.7188e-04 - acc: 1.0000 - val_loss: 0.6498 - val_acc: 0.9600\n",
            "Epoch 39/70\n",
            "145/145 [==============================] - 6s 40ms/step - loss: 1.9569e-04 - acc: 1.0000 - val_loss: 0.6533 - val_acc: 0.9600\n",
            "Epoch 40/70\n",
            "145/145 [==============================] - 6s 40ms/step - loss: 3.3543e-07 - acc: 1.0000 - val_loss: 0.6503 - val_acc: 0.9600\n",
            "Epoch 41/70\n",
            "145/145 [==============================] - 6s 41ms/step - loss: 1.8005e-07 - acc: 1.0000 - val_loss: 0.6456 - val_acc: 0.9600\n",
            "Epoch 42/70\n",
            "145/145 [==============================] - 6s 40ms/step - loss: 1.1921e-07 - acc: 1.0000 - val_loss: 0.6428 - val_acc: 0.9600\n",
            "Epoch 43/70\n",
            "145/145 [==============================] - 6s 40ms/step - loss: 1.3072e-07 - acc: 1.0000 - val_loss: 0.6411 - val_acc: 0.9600\n",
            "Epoch 44/70\n",
            "145/145 [==============================] - 6s 41ms/step - loss: 1.7066e-04 - acc: 1.0000 - val_loss: 0.6388 - val_acc: 0.9600\n",
            "Epoch 45/70\n",
            "145/145 [==============================] - 6s 40ms/step - loss: 3.7654e-07 - acc: 1.0000 - val_loss: 0.6371 - val_acc: 0.9600\n",
            "Epoch 46/70\n",
            "145/145 [==============================] - 6s 41ms/step - loss: 1.1921e-07 - acc: 1.0000 - val_loss: 0.6356 - val_acc: 0.9400\n",
            "Epoch 47/70\n",
            "145/145 [==============================] - 6s 41ms/step - loss: 7.4059e-06 - acc: 1.0000 - val_loss: 0.6342 - val_acc: 0.9400\n",
            "Epoch 48/70\n",
            "145/145 [==============================] - 6s 41ms/step - loss: 1.6022e-05 - acc: 1.0000 - val_loss: 0.6329 - val_acc: 0.9400\n",
            "Epoch 49/70\n",
            "145/145 [==============================] - 6s 40ms/step - loss: 1.1921e-07 - acc: 1.0000 - val_loss: 0.6318 - val_acc: 0.9400\n",
            "Epoch 50/70\n",
            "145/145 [==============================] - 6s 40ms/step - loss: 1.2373e-07 - acc: 1.0000 - val_loss: 0.6309 - val_acc: 0.9400\n",
            "Epoch 51/70\n",
            "145/145 [==============================] - 6s 41ms/step - loss: 1.2168e-07 - acc: 1.0000 - val_loss: 0.6303 - val_acc: 0.9400\n",
            "Epoch 52/70\n",
            "145/145 [==============================] - 6s 41ms/step - loss: 1.2044e-07 - acc: 1.0000 - val_loss: 0.6297 - val_acc: 0.9400\n",
            "Epoch 53/70\n",
            "145/145 [==============================] - 6s 41ms/step - loss: 1.7970e-04 - acc: 1.0000 - val_loss: 0.6280 - val_acc: 0.9400\n",
            "Epoch 54/70\n",
            "145/145 [==============================] - 6s 41ms/step - loss: 5.3727e-07 - acc: 1.0000 - val_loss: 0.6279 - val_acc: 0.9600\n",
            "Epoch 55/70\n",
            "145/145 [==============================] - 6s 41ms/step - loss: 1.2003e-07 - acc: 1.0000 - val_loss: 0.6288 - val_acc: 0.9600\n",
            "Epoch 56/70\n",
            "145/145 [==============================] - 6s 40ms/step - loss: 1.1921e-07 - acc: 1.0000 - val_loss: 0.6290 - val_acc: 0.9600\n",
            "Epoch 57/70\n",
            "145/145 [==============================] - 6s 40ms/step - loss: 1.1921e-07 - acc: 1.0000 - val_loss: 0.6286 - val_acc: 0.9600\n",
            "Epoch 58/70\n",
            "145/145 [==============================] - 6s 41ms/step - loss: 8.4179e-06 - acc: 1.0000 - val_loss: 0.6304 - val_acc: 0.9600\n",
            "Epoch 59/70\n",
            "145/145 [==============================] - 6s 40ms/step - loss: 1.1921e-07 - acc: 1.0000 - val_loss: 0.6318 - val_acc: 0.9600\n",
            "Epoch 60/70\n",
            "145/145 [==============================] - 6s 40ms/step - loss: 1.2044e-07 - acc: 1.0000 - val_loss: 0.6323 - val_acc: 0.9600\n",
            "Epoch 61/70\n",
            "145/145 [==============================] - 6s 41ms/step - loss: 1.1921e-07 - acc: 1.0000 - val_loss: 0.6322 - val_acc: 0.9600\n",
            "Epoch 62/70\n",
            "145/145 [==============================] - 6s 40ms/step - loss: 2.1458e-07 - acc: 1.0000 - val_loss: 0.6318 - val_acc: 0.9600\n",
            "Epoch 63/70\n",
            "145/145 [==============================] - 6s 40ms/step - loss: 1.3935e-07 - acc: 1.0000 - val_loss: 0.6312 - val_acc: 0.9600\n",
            "Epoch 64/70\n",
            "145/145 [==============================] - 6s 41ms/step - loss: 2.0718e-07 - acc: 1.0000 - val_loss: 0.6305 - val_acc: 0.9600\n",
            "Epoch 65/70\n",
            "145/145 [==============================] - 6s 41ms/step - loss: 1.1921e-07 - acc: 1.0000 - val_loss: 0.6299 - val_acc: 0.9600\n",
            "Epoch 66/70\n",
            "145/145 [==============================] - 6s 40ms/step - loss: 1.8416e-07 - acc: 1.0000 - val_loss: 0.6293 - val_acc: 0.9600\n",
            "Epoch 67/70\n",
            "145/145 [==============================] - 6s 40ms/step - loss: 1.1921e-07 - acc: 1.0000 - val_loss: 0.6287 - val_acc: 0.9600\n",
            "Epoch 68/70\n",
            "145/145 [==============================] - 6s 41ms/step - loss: 1.1921e-07 - acc: 1.0000 - val_loss: 0.6281 - val_acc: 0.9600\n",
            "Epoch 69/70\n",
            "145/145 [==============================] - 6s 40ms/step - loss: 1.2003e-07 - acc: 1.0000 - val_loss: 0.6276 - val_acc: 0.9600\n",
            "Epoch 70/70\n",
            "145/145 [==============================] - 6s 41ms/step - loss: 4.2382e-07 - acc: 1.0000 - val_loss: 0.6271 - val_acc: 0.9600\n"
          ],
          "name": "stdout"
        },
        {
          "output_type": "execute_result",
          "data": {
            "text/plain": [
              "<keras.callbacks.History at 0x7f170de50080>"
            ]
          },
          "metadata": {
            "tags": []
          },
          "execution_count": 33
        }
      ]
    },
    {
      "cell_type": "code",
      "metadata": {
        "id": "DggIZE96wr3X",
        "colab_type": "code",
        "colab": {}
      },
      "source": [
        "  from keras import backend as K\n",
        "  from sklearn.metrics import confusion_matrix"
      ],
      "execution_count": 0,
      "outputs": []
    },
    {
      "cell_type": "code",
      "metadata": {
        "id": "dUBMb0Vh3uPE",
        "colab_type": "code",
        "outputId": "21248731-4948-4033-d174-265a5f5d63d3",
        "colab": {
          "base_uri": "https://localhost:8080/",
          "height": 69
        }
      },
      "source": [
        "pb = model.predict(cvx.reshape(-1,860,50,1))\n",
        "y_pred=np.argmax(pb,1)\n",
        "confusion_matrix(cvy, y_pred)"
      ],
      "execution_count": 0,
      "outputs": [
        {
          "output_type": "execute_result",
          "data": {
            "text/plain": [
              "array([[22,  1,  0],\n",
              "       [ 1, 12,  0],\n",
              "       [ 0,  0, 14]])"
            ]
          },
          "metadata": {
            "tags": []
          },
          "execution_count": 35
        }
      ]
    },
    {
      "cell_type": "code",
      "metadata": {
        "id": "xC4QfzsqCdOl",
        "colab_type": "code",
        "colab": {}
      },
      "source": [
        "inp = model.input                                           # input placeholder\n",
        "outputs = [layer.output for layer in model.layers]          # all layer outputs\n",
        "#functors = [K.function([inp, K.learning_phase()], [out]) for out in outputs]    # evaluation functions"
      ],
      "execution_count": 0,
      "outputs": []
    },
    {
      "cell_type": "code",
      "metadata": {
        "id": "ksVPmfHcCg9d",
        "colab_type": "code",
        "outputId": "49a560e3-bb5d-4612-8cd0-4c56f150dec8",
        "colab": {
          "base_uri": "https://localhost:8080/",
          "height": 243
        }
      },
      "source": [
        "outputs"
      ],
      "execution_count": 0,
      "outputs": [
        {
          "output_type": "execute_result",
          "data": {
            "text/plain": [
              "[<tf.Tensor 'conv2d_7_1/Relu:0' shape=(?, 860, 50, 32) dtype=float32>,\n",
              " <tf.Tensor 'batch_normalization_7/cond/Merge:0' shape=(?, 860, 50, 32) dtype=float32>,\n",
              " <tf.Tensor 'max_pooling2d_7_1/MaxPool:0' shape=(?, 430, 25, 32) dtype=float32>,\n",
              " <tf.Tensor 'conv2d_8/Relu:0' shape=(?, 430, 25, 64) dtype=float32>,\n",
              " <tf.Tensor 'batch_normalization_8/cond/Merge:0' shape=(?, 430, 25, 64) dtype=float32>,\n",
              " <tf.Tensor 'max_pooling2d_8/MaxPool:0' shape=(?, 215, 13, 64) dtype=float32>,\n",
              " <tf.Tensor 'permute_4/transpose:0' shape=(?, 13, 215, 64) dtype=float32>,\n",
              " <tf.Tensor 'reshape_4_1/Reshape:0' shape=(?, 13, 13760) dtype=float32>,\n",
              " <tf.Tensor 'lstm_6/transpose_1:0' shape=(?, ?, 256) dtype=float32>,\n",
              " <tf.Tensor 'lstm_7/TensorArrayReadV3:0' shape=(?, 512) dtype=float32>,\n",
              " <tf.Tensor 'dense_5/Relu:0' shape=(?, 512) dtype=float32>,\n",
              " <tf.Tensor 'dropout_3_1/cond/Merge:0' shape=(?, 512) dtype=float32>,\n",
              " <tf.Tensor 'dense_6/Softmax:0' shape=(?, 3) dtype=float32>]"
            ]
          },
          "metadata": {
            "tags": []
          },
          "execution_count": 76
        }
      ]
    },
    {
      "cell_type": "code",
      "metadata": {
        "id": "U00B1pkHEWbN",
        "colab_type": "code",
        "colab": {}
      },
      "source": [
        "model.layers[1].output"
      ],
      "execution_count": 0,
      "outputs": []
    },
    {
      "cell_type": "code",
      "metadata": {
        "id": "27ccwcmBFQCZ",
        "colab_type": "code",
        "colab": {}
      },
      "source": [
        ""
      ],
      "execution_count": 0,
      "outputs": []
    },
    {
      "cell_type": "code",
      "metadata": {
        "id": "3-Upd0fWFcOm",
        "colab_type": "code",
        "colab": {}
      },
      "source": [
        ""
      ],
      "execution_count": 0,
      "outputs": []
    }
  ]
}